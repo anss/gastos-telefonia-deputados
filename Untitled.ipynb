{
 "cells": [
  {
   "cell_type": "code",
   "execution_count": 1,
   "metadata": {},
   "outputs": [],
   "source": [
    "import pandas as pd\n",
    "from pandas.io.json import json_normalize"
   ]
  },
  {
   "cell_type": "code",
   "execution_count": 16,
   "metadata": {},
   "outputs": [],
   "source": [
    "df = pd.read_json(r'data/2020.json')\n",
    "gastos = json_normalize(df['dados']) \n",
    "gastos['valorLiquido'] = gastos['valorLiquido'].astype(float)"
   ]
  },
  {
   "cell_type": "code",
   "execution_count": 17,
   "metadata": {},
   "outputs": [
    {
     "name": "stdout",
     "output_type": "stream",
     "text": [
      "<class 'pandas.core.frame.DataFrame'>\n",
      "RangeIndex: 40362 entries, 0 to 40361\n",
      "Data columns (total 31 columns):\n",
      "nomeParlamentar               40362 non-null object\n",
      "cpf                           40362 non-null object\n",
      "numeroCarteiraParlamentar     40362 non-null object\n",
      "legislatura                   40362 non-null int64\n",
      "siglaUF                       40362 non-null object\n",
      "siglaPartido                  40362 non-null object\n",
      "codigoLegislatura             40362 non-null int64\n",
      "numeroSubCota                 40362 non-null int64\n",
      "descricao                     40362 non-null object\n",
      "numeroEspecificacaoSubCota    40362 non-null int64\n",
      "descricaoEspecificacao        40362 non-null object\n",
      "fornecedor                    40362 non-null object\n",
      "cnpjCPF                       40362 non-null object\n",
      "numero                        40362 non-null object\n",
      "tipoDocumento                 40362 non-null object\n",
      "dataEmissao                   40362 non-null object\n",
      "valorDocumento                40362 non-null object\n",
      "valorGlosa                    40362 non-null object\n",
      "valorLiquido                  40362 non-null float64\n",
      "mes                           40362 non-null int64\n",
      "ano                           40362 non-null int64\n",
      "parcela                       40362 non-null int64\n",
      "passageiro                    40362 non-null object\n",
      "trecho                        40362 non-null object\n",
      "lote                          40362 non-null object\n",
      "ressarcimento                 40362 non-null object\n",
      "restituicao                   40362 non-null object\n",
      "numeroDeputadoID              40362 non-null int64\n",
      "idDocumento                   40362 non-null int64\n",
      "urlDocumento                  31917 non-null object\n",
      "idDeputado                    40219 non-null float64\n",
      "dtypes: float64(2), int64(9), object(20)\n",
      "memory usage: 9.5+ MB\n"
     ]
    }
   ],
   "source": [
    "gastos.info(verbose=True)"
   ]
  },
  {
   "cell_type": "code",
   "execution_count": 18,
   "metadata": {},
   "outputs": [],
   "source": [
    "gastos_telefonia = gastos.loc[gastos['descricao'] == 'TELEFONIA']"
   ]
  },
  {
   "cell_type": "code",
   "execution_count": 31,
   "metadata": {},
   "outputs": [],
   "source": [
    "gastos_telefonia_deputado = gastos_telefonia.groupby(\"nomeParlamentar\")[\"valorLiquido\"].sum().reset_index().sort_values('valorLiquido', ascending=False)"
   ]
  },
  {
   "cell_type": "code",
   "execution_count": 34,
   "metadata": {},
   "outputs": [],
   "source": [
    "gastos_telefonia_deputado.to_json('gastos-2020.json', orient='records', lines=True)"
   ]
  }
 ],
 "metadata": {
  "kernelspec": {
   "display_name": "Python 3",
   "language": "python",
   "name": "python3"
  },
  "language_info": {
   "codemirror_mode": {
    "name": "ipython",
    "version": 3
   },
   "file_extension": ".py",
   "mimetype": "text/x-python",
   "name": "python",
   "nbconvert_exporter": "python",
   "pygments_lexer": "ipython3",
   "version": "3.6.9"
  }
 },
 "nbformat": 4,
 "nbformat_minor": 4
}
